{
 "cells": [
  {
   "cell_type": "markdown",
   "metadata": {},
   "source": [
    "## Regresión logística"
   ]
  },
  {
   "cell_type": "code",
   "execution_count": 128,
   "metadata": {},
   "outputs": [
    {
     "name": "stdout",
     "output_type": "stream",
     "text": [
      "{\n",
      "  \"Especie\": \"Adelie\",\n",
      "  \"Probabilidad\": 0.9999996852758329\n",
      "}\n"
     ]
    },
    {
     "name": "stderr",
     "output_type": "stream",
     "text": [
      "  % Total    % Received % Xferd  Average Speed   Time    Time     Time  Current\n",
      "                                 Dload  Upload   Total   Spent    Left  Speed\n",
      "\n",
      "  0     0    0     0    0     0      0      0 --:--:-- --:--:-- --:--:--     0\n",
      "100   230  100    64  100   166     97    253 --:--:-- --:--:-- --:--:--   351\n"
     ]
    }
   ],
   "source": [
    "!curl --request POST \"http://127.0.0.1:8000/predict_lr\" \\\n",
    "--header \"Content-Type: application/json\" \\\n",
    "--data-raw \"{\\\n",
    "    \\\"island\\\": \\\"Torgersen\\\",\\\n",
    "    \\\"culmen_length_mm\\\": 39.1,\\\n",
    "    \\\"culmen_depth_mm\\\": 18.7,\\\n",
    "    \\\"flipper_length_mm\\\": 181.0,\\\n",
    "    \\\"body_mass_g\\\": 3750.0,\\\n",
    "    \\\"sex\\\": \\\"MALE\\\"\\\n",
    "}\""
   ]
  },
  {
   "cell_type": "code",
   "execution_count": 129,
   "metadata": {},
   "outputs": [
    {
     "name": "stdout",
     "output_type": "stream",
     "text": [
      "{\n",
      "  \"Especie\": \"Chinstrap\",\n",
      "  \"Probabilidad\": 0.9999955216333819\n",
      "}\n"
     ]
    },
    {
     "name": "stderr",
     "output_type": "stream",
     "text": [
      "  % Total    % Received % Xferd  Average Speed   Time    Time     Time  Current\n",
      "                                 Dload  Upload   Total   Spent    Left  Speed\n",
      "\n",
      "  0     0    0     0    0     0      0      0 --:--:-- --:--:-- --:--:--     0\n",
      "100   229  100    67  100   162  24796  59955 --:--:-- --:--:-- --:--:--  111k\n"
     ]
    }
   ],
   "source": [
    "!curl --request POST \"http://127.0.0.1:8000/predict_lr\" \\\n",
    "--header \"Content-Type: application/json\" \\\n",
    "--data-raw \"{\\\n",
    "    \\\"island\\\": \\\"Dream\\\",\\\n",
    "    \\\"culmen_length_mm\\\": 50.3,\\\n",
    "    \\\"culmen_depth_mm\\\": 20.0,\\\n",
    "    \\\"flipper_length_mm\\\": 197.0,\\\n",
    "    \\\"body_mass_g\\\": 3300.0,\\\n",
    "    \\\"sex\\\": \\\"MALE\\\"\\\n",
    "}\""
   ]
  },
  {
   "cell_type": "markdown",
   "metadata": {},
   "source": [
    "## SVM"
   ]
  },
  {
   "cell_type": "code",
   "execution_count": 130,
   "metadata": {},
   "outputs": [
    {
     "name": "stdout",
     "output_type": "stream",
     "text": [
      "{\n",
      "  \"Especie\": \"Chinstrap\",\n",
      "  \"Probabilidad\": 0.9944710239126738\n",
      "}\n"
     ]
    },
    {
     "name": "stderr",
     "output_type": "stream",
     "text": [
      "  % Total    % Received % Xferd  Average Speed   Time    Time     Time  Current\n",
      "                                 Dload  Upload   Total   Spent    Left  Speed\n",
      "\n",
      "  0     0    0     0    0     0      0      0 --:--:-- --:--:-- --:--:--     0\n",
      "100   229  100    67  100   162  23320  56387 --:--:-- --:--:-- --:--:--  111k\n"
     ]
    }
   ],
   "source": [
    "!curl --request POST \"http://127.0.0.1:8000/predict_svm\" \\\n",
    "--header \"Content-Type: application/json\" \\\n",
    "--data-raw \"{\\\n",
    "    \\\"island\\\": \\\"Dream\\\",\\\n",
    "    \\\"culmen_length_mm\\\": 50.3,\\\n",
    "    \\\"culmen_depth_mm\\\": 20.0,\\\n",
    "    \\\"flipper_length_mm\\\": 197.0,\\\n",
    "    \\\"body_mass_g\\\": 3300.0,\\\n",
    "    \\\"sex\\\": \\\"MALE\\\"\\\n",
    "}\""
   ]
  },
  {
   "cell_type": "code",
   "execution_count": 131,
   "metadata": {},
   "outputs": [
    {
     "name": "stdout",
     "output_type": "stream",
     "text": [
      "{\n",
      "  \"Especie\": \"Adelie\",\n",
      "  \"Probabilidad\": 0.9999998499928824\n",
      "}\n"
     ]
    },
    {
     "name": "stderr",
     "output_type": "stream",
     "text": [
      "  % Total    % Received % Xferd  Average Speed   Time    Time     Time  Current\n",
      "                                 Dload  Upload   Total   Spent    Left  Speed\n",
      "\n",
      "  0     0    0     0    0     0      0      0 --:--:-- --:--:-- --:--:--     0\n",
      "100   228  100    64  100   164  23624  60538 --:--:-- --:--:-- --:--:--  111k\n"
     ]
    }
   ],
   "source": [
    "!curl --request POST \"http://127.0.0.1:8000/predict_svm\" \\\n",
    "--header \"Content-Type: application/json\" \\\n",
    "--data-raw \"{\\\n",
    "    \\\"island\\\": \\\"Dream\\\",\\\n",
    "    \\\"culmen_length_mm\\\": 23.3,\\\n",
    "    \\\"culmen_depth_mm\\\": 27.0,\\\n",
    "    \\\"flipper_length_mm\\\": 137.0,\\\n",
    "    \\\"body_mass_g\\\": 2300.0,\\\n",
    "    \\\"sex\\\": \\\"FEMALE\\\"\\\n",
    "}\""
   ]
  },
  {
   "cell_type": "markdown",
   "metadata": {},
   "source": [
    "## Decission Trees"
   ]
  },
  {
   "cell_type": "code",
   "execution_count": 132,
   "metadata": {},
   "outputs": [
    {
     "name": "stdout",
     "output_type": "stream",
     "text": [
      "{\n",
      "  \"Especie\": \"Chinstrap\",\n",
      "  \"Probabilidad\": 1.0\n",
      "}\n"
     ]
    },
    {
     "name": "stderr",
     "output_type": "stream",
     "text": [
      "  % Total    % Received % Xferd  Average Speed   Time    Time     Time  Current\n",
      "                                 Dload  Upload   Total   Spent    Left  Speed\n",
      "\n",
      "  0     0    0     0    0     0      0      0 --:--:-- --:--:-- --:--:--     0\n",
      "100   214  100    52  100   162   2965   9239 --:--:-- --:--:-- --:--:-- 12588\n"
     ]
    }
   ],
   "source": [
    "!curl --request POST \"http://127.0.0.1:8000/predict_dt\" \\\n",
    "--header \"Content-Type: application/json\" \\\n",
    "--data-raw \"{\\\n",
    "    \\\"island\\\": \\\"Dream\\\",\\\n",
    "    \\\"culmen_length_mm\\\": 50.3,\\\n",
    "    \\\"culmen_depth_mm\\\": 20.0,\\\n",
    "    \\\"flipper_length_mm\\\": 197.0,\\\n",
    "    \\\"body_mass_g\\\": 3300.0,\\\n",
    "    \\\"sex\\\": \\\"MALE\\\"\\\n",
    "}\""
   ]
  },
  {
   "cell_type": "code",
   "execution_count": 136,
   "metadata": {},
   "outputs": [
    {
     "name": "stdout",
     "output_type": "stream",
     "text": [
      "{\n",
      "  \"Especie\": \"Adelie\",\n",
      "  \"Probabilidad\": 1.0\n",
      "}\n"
     ]
    },
    {
     "name": "stderr",
     "output_type": "stream",
     "text": [
      "  % Total    % Received % Xferd  Average Speed   Time    Time     Time  Current\n",
      "                                 Dload  Upload   Total   Spent    Left  Speed\n",
      "\n",
      "  0     0    0     0    0     0      0      0 --:--:-- --:--:-- --:--:--     0\n",
      "100   214  100    49  100   165  19483  65606 --:--:-- --:--:-- --:--:--  104k\n"
     ]
    }
   ],
   "source": [
    "!curl --request POST \"http://127.0.0.1:8000/predict_dt\" \\\n",
    "--header \"Content-Type: application/json\" \\\n",
    "--data-raw \"{\\\n",
    "    \\\"island\\\": \\\"Biscoe\\\",\\\n",
    "    \\\"culmen_length_mm\\\": 40.3,\\\n",
    "    \\\"culmen_depth_mm\\\": 80.0,\\\n",
    "    \\\"flipper_length_mm\\\": 297.0,\\\n",
    "    \\\"body_mass_g\\\": 3500.0,\\\n",
    "    \\\"sex\\\": \\\"FEMALE\\\"\\\n",
    "}\""
   ]
  },
  {
   "cell_type": "markdown",
   "metadata": {},
   "source": [
    "## KNN"
   ]
  },
  {
   "cell_type": "code",
   "execution_count": 137,
   "metadata": {},
   "outputs": [
    {
     "name": "stdout",
     "output_type": "stream",
     "text": [
      "{\n",
      "  \"Especie\": \"Adelie\",\n",
      "  \"Probabilidad\": 0.6666666666666666\n",
      "}\n"
     ]
    },
    {
     "name": "stderr",
     "output_type": "stream",
     "text": [
      "  % Total    % Received % Xferd  Average Speed   Time    Time     Time  Current\n",
      "                                 Dload  Upload   Total   Spent    Left  Speed\n",
      "\n",
      "  0     0    0     0    0     0      0      0 --:--:-- --:--:-- --:--:--     0\n",
      "100   227  100    64  100   163  18058  45993 --:--:-- --:--:-- --:--:-- 75666\n"
     ]
    }
   ],
   "source": [
    "!curl --request POST \"http://127.0.0.1:8000/predict_knn\" \\\n",
    "--header \"Content-Type: application/json\" \\\n",
    "--data-raw \"{\\\n",
    "    \\\"island\\\": \\\"Dream\\\",\\\n",
    "    \\\"culmen_length_mm\\\": 50.3,\\\n",
    "    \\\"culmen_depth_mm\\\": 14.4,\\\n",
    "    \\\"flipper_length_mm\\\": 37.0,\\\n",
    "    \\\"body_mass_g\\\": 4600.0,\\\n",
    "    \\\"sex\\\": \\\"FEMALE\\\"\\\n",
    "}\""
   ]
  },
  {
   "cell_type": "code",
   "execution_count": 138,
   "metadata": {},
   "outputs": [
    {
     "name": "stdout",
     "output_type": "stream",
     "text": [
      "{\n",
      "  \"Especie\": \"Gentoo\",\n",
      "  \"Probabilidad\": 1.0\n",
      "}\n"
     ]
    },
    {
     "name": "stderr",
     "output_type": "stream",
     "text": [
      "  % Total    % Received % Xferd  Average Speed   Time    Time     Time  Current\n",
      "                                 Dload  Upload   Total   Spent    Left  Speed\n",
      "\n",
      "  0     0    0     0    0     0      0      0 --:--:-- --:--:-- --:--:--     0\n",
      "100   214  100    49  100   165  12942  43581 --:--:-- --:--:-- --:--:-- 71333\n"
     ]
    }
   ],
   "source": [
    "!curl --request POST \"http://127.0.0.1:8000/predict_knn\" \\\n",
    "--header \"Content-Type: application/json\" \\\n",
    "--data-raw \"{\\\n",
    "    \\\"island\\\": \\\"Biscoe\\\",\\\n",
    "    \\\"culmen_length_mm\\\": 43.4,\\\n",
    "    \\\"culmen_depth_mm\\\": 14.4,\\\n",
    "    \\\"flipper_length_mm\\\": 218.0,\\\n",
    "    \\\"body_mass_g\\\": 4600.0,\\\n",
    "    \\\"sex\\\": \\\"FEMALE\\\"\\\n",
    "}\""
   ]
  }
 ],
 "metadata": {
  "kernelspec": {
   "display_name": ".venv",
   "language": "python",
   "name": "python3"
  },
  "language_info": {
   "codemirror_mode": {
    "name": "ipython",
    "version": 3
   },
   "file_extension": ".py",
   "mimetype": "text/x-python",
   "name": "python",
   "nbconvert_exporter": "python",
   "pygments_lexer": "ipython3",
   "version": "3.11.3"
  }
 },
 "nbformat": 4,
 "nbformat_minor": 2
}
